{
 "cells": [
  {
   "cell_type": "code",
   "execution_count": 3,
   "id": "6148d1ac",
   "metadata": {},
   "outputs": [],
   "source": [
    "from input import ProblemInput"
   ]
  },
  {
   "cell_type": "code",
   "execution_count": null,
   "id": "9e564f72-ac16-446b-9f03-51ed0d17943a",
   "metadata": {},
   "outputs": [],
   "source": [
    "filepath = 'input/a_an_example.in.txt'\n",
    "a = ProblemInput(filepath)"
   ]
  },
  {
   "cell_type": "code",
   "execution_count": null,
   "id": "98ca3cf8",
   "metadata": {},
   "outputs": [],
   "source": []
  },
  {
   "cell_type": "code",
   "execution_count": null,
   "id": "41834fd4",
   "metadata": {},
   "outputs": [],
   "source": []
  },
  {
   "cell_type": "markdown",
   "id": "df1ae172",
   "metadata": {},
   "source": [
    "* self.like_to_clients = {}\n",
    "* self.clients_to_like = {}\n",
    "* self.dislike_to_clients = {}\n",
    "* self.clients_to_dislikes = {}"
   ]
  },
  {
   "cell_type": "code",
   "execution_count": null,
   "id": "92a72167",
   "metadata": {},
   "outputs": [],
   "source": []
  }
 ],
 "metadata": {
  "kernelspec": {
   "display_name": "Python 3 (ipykernel)",
   "language": "python",
   "name": "python3"
  },
  "language_info": {
   "codemirror_mode": {
    "name": "ipython",
    "version": 3
   },
   "file_extension": ".py",
   "mimetype": "text/x-python",
   "name": "python",
   "nbconvert_exporter": "python",
   "pygments_lexer": "ipython3",
   "version": "3.9.0"
  }
 },
 "nbformat": 4,
 "nbformat_minor": 5
}
