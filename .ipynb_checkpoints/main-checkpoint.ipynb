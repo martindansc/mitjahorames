{
 "cells": [
  {
   "cell_type": "code",
   "execution_count": null,
   "id": "578b07ae-4b8a-4ec5-afcf-86d285761e87",
   "metadata": {},
   "outputs": [],
   "source": [
    "# Read input"
   ]
  }
 ],
 "metadata": {
  "kernelspec": {
   "display_name": "Python 3",
   "language": "python",
   "name": "python3"
  },
  "language_info": {
   "codemirror_mode": {
    "name": "ipython",
    "version": 3
   },
   "file_extension": ".py",
   "mimetype": "text/x-python",
   "name": "python",
   "nbconvert_exporter": "python",
   "pygments_lexer": "ipython3",
   "version": "3.8.0"
  }
 },
 "nbformat": 4,
 "nbformat_minor": 5
}
