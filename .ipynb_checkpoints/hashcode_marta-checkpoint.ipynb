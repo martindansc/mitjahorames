{
 "cells": [
  {
   "cell_type": "markdown",
   "id": "4b4f36f8",
   "metadata": {},
   "source": [
    "- Order Projects by : best before (mes petit), points (mes alt) i duracio (mes petita)\n",
    "    - For project in "
   ]
  },
  {
   "cell_type": "markdown",
   "id": "d4751571",
   "metadata": {},
   "source": [
    "- df de projectes:\n",
    " - variable temps"
   ]
  },
  {
   "cell_type": "code",
   "execution_count": 5,
   "id": "5137e45a",
   "metadata": {},
   "outputs": [],
   "source": [
    "from input import ProblemInput\n",
    "import pandas as pd \n"
   ]
  },
  {
   "cell_type": "markdown",
   "id": "dbc32a7b",
   "metadata": {},
   "source": [
    "## First Algorithm"
   ]
  },
  {
   "cell_type": "code",
   "execution_count": 6,
   "id": "e79e6cc6",
   "metadata": {},
   "outputs": [],
   "source": [
    "\n",
    "# inputData = ProblemInput(\"input/a_an_example.in.txt\")\n",
    "# inputData = ProblemInput(\"input/b_basic.in.txt\")\n",
    "inputData = ProblemInput(\"input/c_collaboration.in.txt\")\n",
    "# inputData = ProblemInput(\"input/d_difficult.in.txt\")\n",
    "# inputData = ProblemInput(\"input/e_elaborate.in.txt\")"
   ]
  },
  {
   "cell_type": "code",
   "execution_count": null,
   "id": "96b3a701",
   "metadata": {},
   "outputs": [],
   "source": []
  },
  {
   "cell_type": "code",
   "execution_count": 7,
   "id": "a22334eb",
   "metadata": {},
   "outputs": [],
   "source": [
    "def score_projects(dict_projects,list_projects,time):\n",
    "    \"\"\"\n",
    "    dict of all projects, list of projects available (names), current\"\"\"\n",
    "    d = {'name':[],'deadline':[], 'score':[],'needed_contributors':[]}\n",
    "    \n",
    "    for proj in list_projects:\n",
    "        d['name'].append(dict_projects[proj].name)\n",
    "        d['score'].append(dict_projects[proj].score)\n",
    "        d['deadline'].append(eval(dict_projects[proj].deadline))\n",
    "        d['needed_contributors'].append(dict_projects[proj].needed_contributors)\n",
    "    df =pd.DataFrame(d)\n",
    "#     df = df.sort_values(by=['best_before','points','duration'], ascending= [True,False,True])\n",
    "    df['score_total'] = df.apply(lambda row : row['score'] - (time-row['deadline']) if time>row['deadline'] else row['score'], axis=1)\n",
    "    df = df.sort_values(by=['score_total','needed_contributors'],ascending = [False,True])\n",
    "    df = df[df['score_total']>0]\n",
    "    if df.shape[0]>0:\n",
    "        return list(df['name'])\n",
    "    \n",
    "    return []\n",
    "\n"
   ]
  },
  {
   "cell_type": "code",
   "execution_count": null,
   "id": "56a4deef",
   "metadata": {},
   "outputs": [],
   "source": []
  },
  {
   "cell_type": "code",
   "execution_count": 8,
   "id": "5773a50c",
   "metadata": {},
   "outputs": [
    {
     "ename": "TypeError",
     "evalue": "eval() arg 1 must be a string, bytes or code object",
     "output_type": "error",
     "traceback": [
      "\u001b[1;31m---------------------------------------------------------------------------\u001b[0m",
      "\u001b[1;31mTypeError\u001b[0m                                 Traceback (most recent call last)",
      "\u001b[1;32m~\\AppData\\Local\\Temp/ipykernel_7256/920982905.py\u001b[0m in \u001b[0;36m<module>\u001b[1;34m\u001b[0m\n\u001b[0;32m      1\u001b[0m \u001b[0mlist_busy\u001b[0m \u001b[1;33m=\u001b[0m \u001b[1;33m[\u001b[0m\u001b[1;33m]\u001b[0m \u001b[1;31m# list of busy contributors [name,time_available_again]\u001b[0m\u001b[1;33m\u001b[0m\u001b[1;33m\u001b[0m\u001b[0m\n\u001b[1;32m----> 2\u001b[1;33m \u001b[0mlist_projects\u001b[0m \u001b[1;33m=\u001b[0m \u001b[0mscore_projects\u001b[0m\u001b[1;33m(\u001b[0m\u001b[0minputData\u001b[0m\u001b[1;33m.\u001b[0m\u001b[0mprojects\u001b[0m\u001b[1;33m,\u001b[0m\u001b[0mlist\u001b[0m\u001b[1;33m(\u001b[0m\u001b[0minputData\u001b[0m\u001b[1;33m.\u001b[0m\u001b[0mprojects\u001b[0m\u001b[1;33m.\u001b[0m\u001b[0mkeys\u001b[0m\u001b[1;33m(\u001b[0m\u001b[1;33m)\u001b[0m\u001b[1;33m)\u001b[0m\u001b[1;33m,\u001b[0m\u001b[0minputData\u001b[0m\u001b[1;33m.\u001b[0m\u001b[0mtime\u001b[0m\u001b[1;33m)\u001b[0m\u001b[1;33m\u001b[0m\u001b[1;33m\u001b[0m\u001b[0m\n\u001b[0m\u001b[0;32m      3\u001b[0m \u001b[1;32mwhile\u001b[0m \u001b[0mlen\u001b[0m\u001b[1;33m(\u001b[0m\u001b[0mlist_projects\u001b[0m\u001b[1;33m)\u001b[0m\u001b[1;33m:\u001b[0m\u001b[1;33m\u001b[0m\u001b[1;33m\u001b[0m\u001b[0m\n\u001b[0;32m      4\u001b[0m     \u001b[0mremaining_projects\u001b[0m \u001b[1;33m=\u001b[0m \u001b[1;33m[\u001b[0m\u001b[1;33m]\u001b[0m\u001b[1;33m\u001b[0m\u001b[1;33m\u001b[0m\u001b[0m\n\u001b[0;32m      5\u001b[0m     \u001b[1;32mfor\u001b[0m \u001b[0mi\u001b[0m \u001b[1;32min\u001b[0m \u001b[0mrange\u001b[0m\u001b[1;33m(\u001b[0m\u001b[0mlen\u001b[0m\u001b[1;33m(\u001b[0m\u001b[0mlist_projects\u001b[0m\u001b[1;33m)\u001b[0m\u001b[1;33m)\u001b[0m\u001b[1;33m:\u001b[0m\u001b[1;33m\u001b[0m\u001b[1;33m\u001b[0m\u001b[0m\n",
      "\u001b[1;32m~\\AppData\\Local\\Temp/ipykernel_7256/1460329665.py\u001b[0m in \u001b[0;36mscore_projects\u001b[1;34m(dict_projects, list_projects, time)\u001b[0m\n\u001b[0;32m      7\u001b[0m         \u001b[0md\u001b[0m\u001b[1;33m[\u001b[0m\u001b[1;34m'name'\u001b[0m\u001b[1;33m]\u001b[0m\u001b[1;33m.\u001b[0m\u001b[0mappend\u001b[0m\u001b[1;33m(\u001b[0m\u001b[0mdict_projects\u001b[0m\u001b[1;33m[\u001b[0m\u001b[0mproj\u001b[0m\u001b[1;33m]\u001b[0m\u001b[1;33m.\u001b[0m\u001b[0mname\u001b[0m\u001b[1;33m)\u001b[0m\u001b[1;33m\u001b[0m\u001b[1;33m\u001b[0m\u001b[0m\n\u001b[0;32m      8\u001b[0m         \u001b[0md\u001b[0m\u001b[1;33m[\u001b[0m\u001b[1;34m'score'\u001b[0m\u001b[1;33m]\u001b[0m\u001b[1;33m.\u001b[0m\u001b[0mappend\u001b[0m\u001b[1;33m(\u001b[0m\u001b[0mdict_projects\u001b[0m\u001b[1;33m[\u001b[0m\u001b[0mproj\u001b[0m\u001b[1;33m]\u001b[0m\u001b[1;33m.\u001b[0m\u001b[0mscore\u001b[0m\u001b[1;33m)\u001b[0m\u001b[1;33m\u001b[0m\u001b[1;33m\u001b[0m\u001b[0m\n\u001b[1;32m----> 9\u001b[1;33m         \u001b[0md\u001b[0m\u001b[1;33m[\u001b[0m\u001b[1;34m'deadline'\u001b[0m\u001b[1;33m]\u001b[0m\u001b[1;33m.\u001b[0m\u001b[0mappend\u001b[0m\u001b[1;33m(\u001b[0m\u001b[0meval\u001b[0m\u001b[1;33m(\u001b[0m\u001b[0mdict_projects\u001b[0m\u001b[1;33m[\u001b[0m\u001b[0mproj\u001b[0m\u001b[1;33m]\u001b[0m\u001b[1;33m.\u001b[0m\u001b[0mdeadline\u001b[0m\u001b[1;33m)\u001b[0m\u001b[1;33m)\u001b[0m\u001b[1;33m\u001b[0m\u001b[1;33m\u001b[0m\u001b[0m\n\u001b[0m\u001b[0;32m     10\u001b[0m         \u001b[0md\u001b[0m\u001b[1;33m[\u001b[0m\u001b[1;34m'needed_contributors'\u001b[0m\u001b[1;33m]\u001b[0m\u001b[1;33m.\u001b[0m\u001b[0mappend\u001b[0m\u001b[1;33m(\u001b[0m\u001b[0mdict_projects\u001b[0m\u001b[1;33m[\u001b[0m\u001b[0mproj\u001b[0m\u001b[1;33m]\u001b[0m\u001b[1;33m.\u001b[0m\u001b[0mneeded_contributors\u001b[0m\u001b[1;33m)\u001b[0m\u001b[1;33m\u001b[0m\u001b[1;33m\u001b[0m\u001b[0m\n\u001b[0;32m     11\u001b[0m     \u001b[0mdf\u001b[0m \u001b[1;33m=\u001b[0m\u001b[0mpd\u001b[0m\u001b[1;33m.\u001b[0m\u001b[0mDataFrame\u001b[0m\u001b[1;33m(\u001b[0m\u001b[0md\u001b[0m\u001b[1;33m)\u001b[0m\u001b[1;33m\u001b[0m\u001b[1;33m\u001b[0m\u001b[0m\n",
      "\u001b[1;31mTypeError\u001b[0m: eval() arg 1 must be a string, bytes or code object"
     ]
    }
   ],
   "source": [
    "\n",
    "list_busy = [] # list of busy contributors [name,time_available_again]\n",
    "list_projects = score_projects(inputData.projects,list(inputData.projects.keys()),inputData.time)\n",
    "while len(list_projects): \n",
    "    remaining_projects = []\n",
    "    for i in range(len(list_projects)):\n",
    "        proj = inputData.assign_contributors(list_projects[i])\n",
    "        if proj == None:\n",
    "            remaining_projects.append(list_projects[i])\n",
    "    inputData.advance_time\n",
    "    list_projects = score_project(inputData.projects,remaining_projects,time)\n",
    "    \n",
    "\n"
   ]
  },
  {
   "cell_type": "code",
   "execution_count": null,
   "id": "71349579",
   "metadata": {},
   "outputs": [],
   "source": []
  },
  {
   "cell_type": "code",
   "execution_count": 27,
   "id": "3c999125",
   "metadata": {},
   "outputs": [],
   "source": [
    "\n"
   ]
  },
  {
   "cell_type": "code",
   "execution_count": 32,
   "id": "22b8914f",
   "metadata": {},
   "outputs": [
    {
     "data": {
      "text/plain": [
       "'c420'"
      ]
     },
     "execution_count": 32,
     "metadata": {},
     "output_type": "execute_result"
    }
   ],
   "source": [
    "choose_contrib(inputData.contributors,'R-py',4)"
   ]
  },
  {
   "cell_type": "code",
   "execution_count": 28,
   "id": "aa01c0eb",
   "metadata": {},
   "outputs": [
    {
     "data": {
      "text/plain": [
       "{'R-py': '1', 'BusinessAnalysis-lib': '4', 'Dart-lib': '3'}"
      ]
     },
     "execution_count": 28,
     "metadata": {},
     "output_type": "execute_result"
    }
   ],
   "source": [
    "inputData.contributors['c121'].skills"
   ]
  },
  {
   "cell_type": "code",
   "execution_count": null,
   "id": "e9fd23c6",
   "metadata": {},
   "outputs": [],
   "source": []
  }
 ],
 "metadata": {
  "kernelspec": {
   "display_name": "Python 3 (ipykernel)",
   "language": "python",
   "name": "python3"
  },
  "language_info": {
   "codemirror_mode": {
    "name": "ipython",
    "version": 3
   },
   "file_extension": ".py",
   "mimetype": "text/x-python",
   "name": "python",
   "nbconvert_exporter": "python",
   "pygments_lexer": "ipython3",
   "version": "3.9.0"
  }
 },
 "nbformat": 4,
 "nbformat_minor": 5
}
