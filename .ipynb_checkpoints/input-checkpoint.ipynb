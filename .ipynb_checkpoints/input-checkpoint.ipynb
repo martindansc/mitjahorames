{
 "cells": [
  {
   "cell_type": "code",
   "execution_count": null,
   "id": "d91955e5",
   "metadata": {},
   "outputs": [],
   "source": [
    "class ProblemInput:\n",
    "\n",
    "    def __init__(self, filepath):\n",
    "        self.init_variables()\n",
    "\n",
    "        with open(filepath) as fp:\n",
    "            for cnt, line in enumerate(fp):\n",
    "                self.read_line(cnt, line)\n",
    "\n",
    "    def init_variables(self):\n",
    "        self.like_to_clients = {}\n",
    "        self.clients_to_like = {}\n",
    "        self.dislike_to_clients = {}\n",
    "        self.clients_to_dislikes = {}\n",
    "\n",
    "    def read_line(self, cnt, line):\n",
    "        line = line.split(\" \")\n",
    "        if cnt == 0:\n",
    "            self.n = int(line[0])\n",
    "        elif cnt%2 == 1:\n",
    "            id = (cnt - 1)%2\n",
    "            self.like_to_clients[id]\n",
    "        else:\n",
    "            self.pizzas.append(line[1:])"
   ]
  }
 ],
 "metadata": {
  "kernelspec": {
   "display_name": "Python 3 (ipykernel)",
   "language": "python",
   "name": "python3"
  },
  "language_info": {
   "codemirror_mode": {
    "name": "ipython",
    "version": 3
   },
   "file_extension": ".py",
   "mimetype": "text/x-python",
   "name": "python",
   "nbconvert_exporter": "python",
   "pygments_lexer": "ipython3",
   "version": "3.9.0"
  }
 },
 "nbformat": 4,
 "nbformat_minor": 5
}
