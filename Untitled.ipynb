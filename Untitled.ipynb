{
 "cells": [
  {
   "cell_type": "code",
   "execution_count": 1,
   "id": "5137e45a",
   "metadata": {},
   "outputs": [],
   "source": [
    "from input import ProblemInput\n",
    "import pandas as pd \n"
   ]
  },
  {
   "cell_type": "markdown",
   "id": "dbc32a7b",
   "metadata": {},
   "source": [
    "## First Algorithm"
   ]
  },
  {
   "cell_type": "code",
   "execution_count": 2,
   "id": "e79e6cc6",
   "metadata": {},
   "outputs": [],
   "source": [
    "\n",
    "# inputData = ProblemInput(\"input/a_an_example.in.txt\")\n",
    "# inputData = ProblemInput(\"input/b_basic.in.txt\")\n",
    "inputData = ProblemInput(\"input/c_coarse.in.txt\")\n",
    "# inputData = ProblemInput(\"input/d_difficult.in.txt\")\n",
    "# inputData = ProblemInput(\"input/e_elaborate.in.txt\")"
   ]
  },
  {
   "cell_type": "code",
   "execution_count": 3,
   "id": "9e9c46e2",
   "metadata": {},
   "outputs": [
    {
     "data": {
      "text/plain": [
       "{'0': ['5', '6', '7', '9'],\n",
       " '1': ['6', '7', '2'],\n",
       " '2': ['5', '1', '9'],\n",
       " '3': [],\n",
       " '4': ['8'],\n",
       " '5': ['7', '9', '0', '2'],\n",
       " '6': ['8', '1', '0'],\n",
       " '7': ['5', '1', '0'],\n",
       " '8': ['6', '4', '9'],\n",
       " '9': ['5', '8', '0', '2']}"
      ]
     },
     "execution_count": 3,
     "metadata": {},
     "output_type": "execute_result"
    }
   ],
   "source": [
    "inputData.incompatible_clients\n"
   ]
  },
  {
   "cell_type": "markdown",
   "id": "a998e85f",
   "metadata": {},
   "source": [
    "* self.like_to_clients = {}\n",
    "* self.clients_to_like = {}\n",
    "* self.dislike_to_clients = {}\n",
    "* self.clients_to_dislikes = {}"
   ]
  },
  {
   "cell_type": "code",
   "execution_count": 197,
   "id": "e2480bb7",
   "metadata": {},
   "outputs": [],
   "source": [
    "ingredient = pd.DataFrame()\n",
    "ingredient['ingredient'] = inputData.like_to_clients.keys()\n",
    "ingredient['clients_like'] = inputData.like_to_clients.values()\n",
    "ingredient['num_like'] = ingredient.apply(lambda row: len(row['clients_like']),axis=1)\n",
    "ingredient['ingredient'] = ingredient['ingredient'].astype(str)\n",
    "ingredient.sort_values(by='num_like')\n",
    "\n",
    "dislike = pd.DataFrame()\n",
    "dislike['ingredient'] = inputData.dislike_to_clients.keys()\n",
    "dislike['clients_dislike'] = inputData.dislike_to_clients.values()\n",
    "if dislike.shape[0]!= 0:\n",
    "    dislike['num_dislike'] = dislike.apply(lambda row: len(row['clients_dislike']),axis=1)\n",
    "    dislike.sort_values(by='num_dislike')\n",
    "else:\n",
    "    dislike['num_dislike'] = []\n",
    "dislike['ingredient'] = dislike['ingredient'].astype(str)\n"
   ]
  },
  {
   "cell_type": "code",
   "execution_count": null,
   "id": "a49c6462",
   "metadata": {},
   "outputs": [],
   "source": []
  },
  {
   "cell_type": "code",
   "execution_count": 198,
   "id": "5b322d5c",
   "metadata": {},
   "outputs": [],
   "source": [
    "df = ingredient.join(dislike.set_index('ingredient'),on='ingredient',how='outer')"
   ]
  },
  {
   "cell_type": "code",
   "execution_count": 199,
   "id": "3061c89f",
   "metadata": {},
   "outputs": [
    {
     "data": {
      "text/html": [
       "<div>\n",
       "<style scoped>\n",
       "    .dataframe tbody tr th:only-of-type {\n",
       "        vertical-align: middle;\n",
       "    }\n",
       "\n",
       "    .dataframe tbody tr th {\n",
       "        vertical-align: top;\n",
       "    }\n",
       "\n",
       "    .dataframe thead th {\n",
       "        text-align: right;\n",
       "    }\n",
       "</style>\n",
       "<table border=\"1\" class=\"dataframe\">\n",
       "  <thead>\n",
       "    <tr style=\"text-align: right;\">\n",
       "      <th></th>\n",
       "      <th>ingredient</th>\n",
       "      <th>clients_like</th>\n",
       "      <th>num_like</th>\n",
       "      <th>clients_dislike</th>\n",
       "      <th>num_dislike</th>\n",
       "    </tr>\n",
       "  </thead>\n",
       "  <tbody>\n",
       "    <tr>\n",
       "      <th>0.0</th>\n",
       "      <td>akuof</td>\n",
       "      <td>[0, 2, 8]</td>\n",
       "      <td>3.0</td>\n",
       "      <td>[9]</td>\n",
       "      <td>1.0</td>\n",
       "    </tr>\n",
       "    <tr>\n",
       "      <th>1.0</th>\n",
       "      <td>byyii</td>\n",
       "      <td>[0, 7, 9]</td>\n",
       "      <td>3.0</td>\n",
       "      <td>[5]</td>\n",
       "      <td>1.0</td>\n",
       "    </tr>\n",
       "    <tr>\n",
       "      <th>2.0</th>\n",
       "      <td>dlust</td>\n",
       "      <td>[0, 1, 3, 4, 8, 9]</td>\n",
       "      <td>6.0</td>\n",
       "      <td>NaN</td>\n",
       "      <td>NaN</td>\n",
       "    </tr>\n",
       "    <tr>\n",
       "      <th>3.0</th>\n",
       "      <td>luncl</td>\n",
       "      <td>[1, 2, 3, 5, 6]</td>\n",
       "      <td>5.0</td>\n",
       "      <td>NaN</td>\n",
       "      <td>NaN</td>\n",
       "    </tr>\n",
       "    <tr>\n",
       "      <th>4.0</th>\n",
       "      <td>qzfyo</td>\n",
       "      <td>[1, 5]</td>\n",
       "      <td>2.0</td>\n",
       "      <td>[2, 7]</td>\n",
       "      <td>2.0</td>\n",
       "    </tr>\n",
       "    <tr>\n",
       "      <th>5.0</th>\n",
       "      <td>vxglq</td>\n",
       "      <td>[2, 3, 5, 9]</td>\n",
       "      <td>4.0</td>\n",
       "      <td>NaN</td>\n",
       "      <td>NaN</td>\n",
       "    </tr>\n",
       "    <tr>\n",
       "      <th>6.0</th>\n",
       "      <td>xveqd</td>\n",
       "      <td>[4, 6]</td>\n",
       "      <td>2.0</td>\n",
       "      <td>[8]</td>\n",
       "      <td>1.0</td>\n",
       "    </tr>\n",
       "    <tr>\n",
       "      <th>7.0</th>\n",
       "      <td>tfeej</td>\n",
       "      <td>[4, 7, 8]</td>\n",
       "      <td>3.0</td>\n",
       "      <td>NaN</td>\n",
       "      <td>NaN</td>\n",
       "    </tr>\n",
       "    <tr>\n",
       "      <th>8.0</th>\n",
       "      <td>xdozp</td>\n",
       "      <td>[6, 7]</td>\n",
       "      <td>2.0</td>\n",
       "      <td>[0, 1]</td>\n",
       "      <td>2.0</td>\n",
       "    </tr>\n",
       "    <tr>\n",
       "      <th>NaN</th>\n",
       "      <td>sunhp</td>\n",
       "      <td>NaN</td>\n",
       "      <td>NaN</td>\n",
       "      <td>[6]</td>\n",
       "      <td>1.0</td>\n",
       "    </tr>\n",
       "  </tbody>\n",
       "</table>\n",
       "</div>"
      ],
      "text/plain": [
       "    ingredient        clients_like  num_like clients_dislike  num_dislike\n",
       "0.0      akuof           [0, 2, 8]       3.0             [9]          1.0\n",
       "1.0      byyii           [0, 7, 9]       3.0             [5]          1.0\n",
       "2.0      dlust  [0, 1, 3, 4, 8, 9]       6.0             NaN          NaN\n",
       "3.0      luncl     [1, 2, 3, 5, 6]       5.0             NaN          NaN\n",
       "4.0      qzfyo              [1, 5]       2.0          [2, 7]          2.0\n",
       "5.0      vxglq        [2, 3, 5, 9]       4.0             NaN          NaN\n",
       "6.0      xveqd              [4, 6]       2.0             [8]          1.0\n",
       "7.0      tfeej           [4, 7, 8]       3.0             NaN          NaN\n",
       "8.0      xdozp              [6, 7]       2.0          [0, 1]          2.0\n",
       "NaN      sunhp                 NaN       NaN             [6]          1.0"
      ]
     },
     "execution_count": 199,
     "metadata": {},
     "output_type": "execute_result"
    }
   ],
   "source": [
    "df"
   ]
  },
  {
   "cell_type": "code",
   "execution_count": 200,
   "id": "877b742f",
   "metadata": {},
   "outputs": [],
   "source": [
    "df.fillna(0,inplace=True)\n",
    "df['ingredient_score'] = df['num_like']-df['num_dislike']\n",
    "df = df.sort_values(by='ingredient_score',ascending=False)"
   ]
  },
  {
   "cell_type": "code",
   "execution_count": 201,
   "id": "0d233d58",
   "metadata": {},
   "outputs": [
    {
     "data": {
      "text/html": [
       "<div>\n",
       "<style scoped>\n",
       "    .dataframe tbody tr th:only-of-type {\n",
       "        vertical-align: middle;\n",
       "    }\n",
       "\n",
       "    .dataframe tbody tr th {\n",
       "        vertical-align: top;\n",
       "    }\n",
       "\n",
       "    .dataframe thead th {\n",
       "        text-align: right;\n",
       "    }\n",
       "</style>\n",
       "<table border=\"1\" class=\"dataframe\">\n",
       "  <thead>\n",
       "    <tr style=\"text-align: right;\">\n",
       "      <th></th>\n",
       "      <th>ingredient</th>\n",
       "      <th>clients_like</th>\n",
       "      <th>num_like</th>\n",
       "      <th>clients_dislike</th>\n",
       "      <th>num_dislike</th>\n",
       "      <th>ingredient_score</th>\n",
       "    </tr>\n",
       "  </thead>\n",
       "  <tbody>\n",
       "    <tr>\n",
       "      <th>2.0</th>\n",
       "      <td>dlust</td>\n",
       "      <td>[0, 1, 3, 4, 8, 9]</td>\n",
       "      <td>6.0</td>\n",
       "      <td>0</td>\n",
       "      <td>0.0</td>\n",
       "      <td>6.0</td>\n",
       "    </tr>\n",
       "    <tr>\n",
       "      <th>3.0</th>\n",
       "      <td>luncl</td>\n",
       "      <td>[1, 2, 3, 5, 6]</td>\n",
       "      <td>5.0</td>\n",
       "      <td>0</td>\n",
       "      <td>0.0</td>\n",
       "      <td>5.0</td>\n",
       "    </tr>\n",
       "    <tr>\n",
       "      <th>5.0</th>\n",
       "      <td>vxglq</td>\n",
       "      <td>[2, 3, 5, 9]</td>\n",
       "      <td>4.0</td>\n",
       "      <td>0</td>\n",
       "      <td>0.0</td>\n",
       "      <td>4.0</td>\n",
       "    </tr>\n",
       "    <tr>\n",
       "      <th>7.0</th>\n",
       "      <td>tfeej</td>\n",
       "      <td>[4, 7, 8]</td>\n",
       "      <td>3.0</td>\n",
       "      <td>0</td>\n",
       "      <td>0.0</td>\n",
       "      <td>3.0</td>\n",
       "    </tr>\n",
       "    <tr>\n",
       "      <th>0.0</th>\n",
       "      <td>akuof</td>\n",
       "      <td>[0, 2, 8]</td>\n",
       "      <td>3.0</td>\n",
       "      <td>[9]</td>\n",
       "      <td>1.0</td>\n",
       "      <td>2.0</td>\n",
       "    </tr>\n",
       "    <tr>\n",
       "      <th>1.0</th>\n",
       "      <td>byyii</td>\n",
       "      <td>[0, 7, 9]</td>\n",
       "      <td>3.0</td>\n",
       "      <td>[5]</td>\n",
       "      <td>1.0</td>\n",
       "      <td>2.0</td>\n",
       "    </tr>\n",
       "    <tr>\n",
       "      <th>6.0</th>\n",
       "      <td>xveqd</td>\n",
       "      <td>[4, 6]</td>\n",
       "      <td>2.0</td>\n",
       "      <td>[8]</td>\n",
       "      <td>1.0</td>\n",
       "      <td>1.0</td>\n",
       "    </tr>\n",
       "    <tr>\n",
       "      <th>4.0</th>\n",
       "      <td>qzfyo</td>\n",
       "      <td>[1, 5]</td>\n",
       "      <td>2.0</td>\n",
       "      <td>[2, 7]</td>\n",
       "      <td>2.0</td>\n",
       "      <td>0.0</td>\n",
       "    </tr>\n",
       "    <tr>\n",
       "      <th>8.0</th>\n",
       "      <td>xdozp</td>\n",
       "      <td>[6, 7]</td>\n",
       "      <td>2.0</td>\n",
       "      <td>[0, 1]</td>\n",
       "      <td>2.0</td>\n",
       "      <td>0.0</td>\n",
       "    </tr>\n",
       "    <tr>\n",
       "      <th>NaN</th>\n",
       "      <td>sunhp</td>\n",
       "      <td>0</td>\n",
       "      <td>0.0</td>\n",
       "      <td>[6]</td>\n",
       "      <td>1.0</td>\n",
       "      <td>-1.0</td>\n",
       "    </tr>\n",
       "  </tbody>\n",
       "</table>\n",
       "</div>"
      ],
      "text/plain": [
       "    ingredient        clients_like  num_like clients_dislike  num_dislike  \\\n",
       "2.0      dlust  [0, 1, 3, 4, 8, 9]       6.0               0          0.0   \n",
       "3.0      luncl     [1, 2, 3, 5, 6]       5.0               0          0.0   \n",
       "5.0      vxglq        [2, 3, 5, 9]       4.0               0          0.0   \n",
       "7.0      tfeej           [4, 7, 8]       3.0               0          0.0   \n",
       "0.0      akuof           [0, 2, 8]       3.0             [9]          1.0   \n",
       "1.0      byyii           [0, 7, 9]       3.0             [5]          1.0   \n",
       "6.0      xveqd              [4, 6]       2.0             [8]          1.0   \n",
       "4.0      qzfyo              [1, 5]       2.0          [2, 7]          2.0   \n",
       "8.0      xdozp              [6, 7]       2.0          [0, 1]          2.0   \n",
       "NaN      sunhp                   0       0.0             [6]          1.0   \n",
       "\n",
       "     ingredient_score  \n",
       "2.0               6.0  \n",
       "3.0               5.0  \n",
       "5.0               4.0  \n",
       "7.0               3.0  \n",
       "0.0               2.0  \n",
       "1.0               2.0  \n",
       "6.0               1.0  \n",
       "4.0               0.0  \n",
       "8.0               0.0  \n",
       "NaN              -1.0  "
      ]
     },
     "execution_count": 201,
     "metadata": {},
     "output_type": "execute_result"
    }
   ],
   "source": [
    "df"
   ]
  },
  {
   "cell_type": "code",
   "execution_count": 202,
   "id": "18056da9",
   "metadata": {},
   "outputs": [],
   "source": [
    "ing = list(df[df['ingredient_score']>=-1]['ingredient'])"
   ]
  },
  {
   "cell_type": "code",
   "execution_count": 203,
   "id": "3335552d",
   "metadata": {},
   "outputs": [
    {
     "data": {
      "text/plain": [
       "['dlust',\n",
       " 'luncl',\n",
       " 'vxglq',\n",
       " 'tfeej',\n",
       " 'akuof',\n",
       " 'byyii',\n",
       " 'xveqd',\n",
       " 'qzfyo',\n",
       " 'xdozp',\n",
       " 'sunhp']"
      ]
     },
     "execution_count": 203,
     "metadata": {},
     "output_type": "execute_result"
    }
   ],
   "source": [
    "ing"
   ]
  },
  {
   "cell_type": "code",
   "execution_count": 204,
   "id": "9b0436b7",
   "metadata": {},
   "outputs": [],
   "source": [
    "with open('submission_c.txt','w') as f:\n",
    "    f.write(str(len(ing)))\n",
    "    for i in ing:\n",
    "        f.write(f' {i}')"
   ]
  },
  {
   "cell_type": "code",
   "execution_count": null,
   "id": "1af521c7",
   "metadata": {},
   "outputs": [],
   "source": []
  },
  {
   "cell_type": "code",
   "execution_count": null,
   "id": "caf33bbc",
   "metadata": {},
   "outputs": [],
   "source": []
  },
  {
   "cell_type": "code",
   "execution_count": null,
   "id": "1de71b86",
   "metadata": {},
   "outputs": [],
   "source": []
  },
  {
   "cell_type": "markdown",
   "id": "4c6339e8",
   "metadata": {},
   "source": [
    "##  Second Algorithm"
   ]
  },
  {
   "cell_type": "code",
   "execution_count": 121,
   "id": "d23b0648",
   "metadata": {},
   "outputs": [],
   "source": [
    "dict_input = {\n",
    "#     'a':'a_an_example',\n",
    "#      'b':'b_basic',\n",
    "     'c':'c_coarse',\n",
    "#      'd':'d_difficult',\n",
    "#      'e':'e_elaborate'\n",
    "}"
   ]
  },
  {
   "cell_type": "code",
   "execution_count": 122,
   "id": "b617450d",
   "metadata": {},
   "outputs": [],
   "source": [
    "def create_ingredient_df(ingredient_dict,ascending):\n",
    "    df = pd.DataFrame()\n",
    "    df['ingredient'] = ingredient_dict.keys()\n",
    "    df['clients'] = ingredient_dict.values()\n",
    "    if df.shape[0]!= 0:\n",
    "        df['len_clients'] = df.apply(lambda row: len(row['clients']),axis=1)\n",
    "        df.sort_values(by='len_clients',ascending=ascending)\n",
    "    else:\n",
    "        df['len_clients'] = []\n",
    "    df['ingredient'] = df['ingredient'].astype(str)\n",
    "    df.reset_index(inplace=True)\n",
    "    return df"
   ]
  },
  {
   "cell_type": "code",
   "execution_count": 123,
   "id": "d017e9f9",
   "metadata": {},
   "outputs": [],
   "source": [
    "def calc_score(like_df,dislike_df,residu):\n",
    "    l = []\n",
    "    df = pd.merge(like_df,dislike_df,on=['ingredient'],how=\"outer\",indicator=True)\n",
    "    df = df[df['_merge'].isin(['left_only','both'])]\n",
    "    for i,row in df.iterrows():\n",
    "        l.extend(row['clients_x'])\n",
    "    l_dis = list(residu)\n",
    "    inner = pd.merge(like_df,dislike_df,on=['ingredient'],how=\"outer\",indicator=True).query('_merge==\"both\"')\n",
    "\n",
    "    for i, row in inner.iterrows():\n",
    "        l_dis.extend(row['clients_y'])\n",
    "    l = list(set(l))\n",
    "    l_dis = list(set(l_dis))\n",
    "    l = [x for x in l if x not in l_dis]\n",
    "    return len(l)"
   ]
  },
  {
   "cell_type": "code",
   "execution_count": 124,
   "id": "6c7c553d",
   "metadata": {},
   "outputs": [],
   "source": [
    "def calc_final_ingredients(like_df,dislike_df):\n",
    "    df = pd.merge(like_df,dislike_df,on=['ingredient'],how=\"outer\",indicator=True)\n",
    "    df = df[df['_merge'].isin(['both','left_only'])]\n",
    "    return list(df['ingredient'])"
   ]
  },
  {
   "cell_type": "code",
   "execution_count": 125,
   "id": "9c483f5b",
   "metadata": {},
   "outputs": [],
   "source": [
    "def update_residu(residu,df):\n",
    "    residu.extend(dislike_df['clients'].iloc[0])\n",
    "    residu=list(set(residu))\n",
    "    return residu"
   ]
  },
  {
   "cell_type": "code",
   "execution_count": 133,
   "id": "bb0fb8a1",
   "metadata": {},
   "outputs": [
    {
     "name": "stdout",
     "output_type": "stream",
     "text": [
      "c\n",
      "5 4 3\n",
      "5 4 5\n",
      "4 4 5\n",
      "3 4 5\n",
      "3 3 5\n",
      "3 3 5\n"
     ]
    }
   ],
   "source": [
    "for file in dict_input.keys():\n",
    "    print(file)\n",
    "    inputData = ProblemInput(f\"input/{dict_input[file]}.in.txt\")\n",
    "    dislike_df = create_ingredient_df(inputData.dislike_to_clients,ascending=False)\n",
    "    like_df = create_ingredient_df(inputData.like_to_clients,ascending=True)\n",
    "    residu = [] #llista pels clients que ja no voldran la pizza pq no te tots els ingredients\n",
    "    best_like = like_df\n",
    "    best_dislike = dislike_df\n",
    "    score = calc_score(like_df,dislike_df,residu)\n",
    "    n=100\n",
    "    while n and like_df.shape[0]>0 and dislike_df.shape[0]>0:\n",
    "        score_1 = calc_score(like_df,dislike_df.iloc[1:,:],residu)\n",
    "        score_2 = calc_score(like_df.iloc[1:,:],dislike_df,residu)\n",
    "        new_score = max(score_1,score_2,score)\n",
    "#         print(calc_final_ingredients(best_like,best_dislike))\n",
    "        print(score_1,score_2,score)\n",
    "        if new_score == score:\n",
    "            n-=1\n",
    "            residu = update_residu(residu,dislike_df)\n",
    "            dislike_df = dislike_df.iloc[1:,:]\n",
    "            \n",
    "        elif new_score == score_1:\n",
    "            best_like = like_df\n",
    "            best_dislike = dislike_df\n",
    "            \n",
    "            residu = update_residu(residu,dislike_df)\n",
    "            dislike_df = dislike_df.iloc[1:,:]\n",
    "            \n",
    "        else:\n",
    "            best_like = like_df\n",
    "            best_dislike = dislike_df\n",
    "            \n",
    "            residu = update_residu(residu,dislike_df)\n",
    "            like_df = like_df.iloc[1:,:]\n",
    "        score = new_score\n",
    "        \n",
    "    final_ingredients = calc_final_ingredients(best_like,best_dislike)\n",
    "    with open(f'submission_{file}.txt','w') as f:\n",
    "        f.write(str(len(final_ingredients)))\n",
    "        for i in final_ingredients:\n",
    "            f.write(f' {i}')"
   ]
  },
  {
   "cell_type": "code",
   "execution_count": null,
   "id": "0594b334",
   "metadata": {},
   "outputs": [],
   "source": []
  },
  {
   "cell_type": "code",
   "execution_count": null,
   "id": "78643d1d",
   "metadata": {},
   "outputs": [],
   "source": []
  },
  {
   "cell_type": "code",
   "execution_count": null,
   "id": "a4a0c77f",
   "metadata": {},
   "outputs": [],
   "source": []
  }
 ],
 "metadata": {
  "kernelspec": {
   "display_name": "Python 3 (ipykernel)",
   "language": "python",
   "name": "python3"
  },
  "language_info": {
   "codemirror_mode": {
    "name": "ipython",
    "version": 3
   },
   "file_extension": ".py",
   "mimetype": "text/x-python",
   "name": "python",
   "nbconvert_exporter": "python",
   "pygments_lexer": "ipython3",
   "version": "3.8.0"
  }
 },
 "nbformat": 4,
 "nbformat_minor": 5
}
