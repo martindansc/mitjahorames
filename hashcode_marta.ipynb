{
 "cells": [
  {
   "cell_type": "markdown",
   "id": "88736bf3",
   "metadata": {},
   "source": [
    "- Order Projects by : best before (mes petit), points (mes alt) i duracio (mes petita)\n",
    "    - For project in "
   ]
  },
  {
   "cell_type": "markdown",
   "id": "fe93b2a3",
   "metadata": {},
   "source": [
    "- df de projectes:\n",
    " - variable temps"
   ]
  },
  {
   "cell_type": "code",
   "execution_count": 1,
   "id": "5137e45a",
   "metadata": {},
   "outputs": [],
   "source": [
    "from input import ProblemInput\n",
    "import pandas as pd \n"
   ]
  },
  {
   "cell_type": "markdown",
   "id": "dbc32a7b",
   "metadata": {},
   "source": [
    "## First Algorithm"
   ]
  },
  {
   "cell_type": "code",
   "execution_count": 2,
   "id": "e79e6cc6",
   "metadata": {},
   "outputs": [],
   "source": [
    "\n",
    "# inputData = ProblemInput(\"input/a_an_example.in.txt\")\n",
    "# inputData = ProblemInput(\"input/b_basic.in.txt\")\n",
    "inputData = ProblemInput(\"input/c_collaboration.in.txt\")\n",
    "# inputData = ProblemInput(\"input/d_difficult.in.txt\")\n",
    "# inputData = ProblemInput(\"input/e_elaborate.in.txt\")"
   ]
  },
  {
   "cell_type": "code",
   "execution_count": null,
   "id": "f2b9db47",
   "metadata": {},
   "outputs": [],
   "source": []
  },
  {
   "cell_type": "code",
   "execution_count": 5,
   "id": "1ecac7dd",
   "metadata": {},
   "outputs": [],
   "source": [
    "def score_projects(dict_projects,list_projects,time):\n",
    "    \"\"\"\n",
    "    dict of all projects, list of projects available (names), current\"\"\"\n",
    "    d = {'name':[],'deadline':[], 'score':[],'needed_contributors':[]}\n",
    "    \n",
    "    for proj in list_projects:\n",
    "        d['name'].append(dict_projects[proj].name)\n",
    "        d['score'].append(dict_projects[proj].score)\n",
    "        d['deadline'].append(int(dict_projects[proj].deadline))\n",
    "        d['needed_contributors'].append(dict_projects[proj].needed_contributors)\n",
    "    df =pd.DataFrame(d)\n",
    "#     df = df.sort_values(by=['best_before','points','duration'], ascending= [True,False,True])\n",
    "    df['score_total'] = df.apply(lambda row : row['score'] - (time-row['deadline']) if time>row['deadline'] else row['score'], axis=1)\n",
    "    df = df.sort_values(by=['score_total','needed_contributors'],ascending = [False,True])\n",
    "    df = df[df['score_total']>0]\n",
    "    if df.shape[0]>0:\n",
    "        return list(df['name'])\n",
    "    \n",
    "    return []\n",
    "\n"
   ]
  },
  {
   "cell_type": "code",
   "execution_count": null,
   "id": "7ce47fb2",
   "metadata": {},
   "outputs": [],
   "source": []
  },
  {
   "cell_type": "code",
   "execution_count": 6,
   "id": "76051006",
   "metadata": {},
   "outputs": [
    {
     "ename": "KeyError",
     "evalue": "'c1228'",
     "output_type": "error",
     "traceback": [
      "\u001b[1;31m---------------------------------------------------------------------------\u001b[0m",
      "\u001b[1;31mKeyError\u001b[0m                                  Traceback (most recent call last)",
      "\u001b[1;32m~\\AppData\\Local\\Temp/ipykernel_4672/920982905.py\u001b[0m in \u001b[0;36m<module>\u001b[1;34m\u001b[0m\n\u001b[0;32m      4\u001b[0m     \u001b[0mremaining_projects\u001b[0m \u001b[1;33m=\u001b[0m \u001b[1;33m[\u001b[0m\u001b[1;33m]\u001b[0m\u001b[1;33m\u001b[0m\u001b[1;33m\u001b[0m\u001b[0m\n\u001b[0;32m      5\u001b[0m     \u001b[1;32mfor\u001b[0m \u001b[0mi\u001b[0m \u001b[1;32min\u001b[0m \u001b[0mrange\u001b[0m\u001b[1;33m(\u001b[0m\u001b[0mlen\u001b[0m\u001b[1;33m(\u001b[0m\u001b[0mlist_projects\u001b[0m\u001b[1;33m)\u001b[0m\u001b[1;33m)\u001b[0m\u001b[1;33m:\u001b[0m\u001b[1;33m\u001b[0m\u001b[1;33m\u001b[0m\u001b[0m\n\u001b[1;32m----> 6\u001b[1;33m         \u001b[0mproj\u001b[0m \u001b[1;33m=\u001b[0m \u001b[0minputData\u001b[0m\u001b[1;33m.\u001b[0m\u001b[0massign_contributors\u001b[0m\u001b[1;33m(\u001b[0m\u001b[0mlist_projects\u001b[0m\u001b[1;33m[\u001b[0m\u001b[0mi\u001b[0m\u001b[1;33m]\u001b[0m\u001b[1;33m)\u001b[0m\u001b[1;33m\u001b[0m\u001b[1;33m\u001b[0m\u001b[0m\n\u001b[0m\u001b[0;32m      7\u001b[0m         \u001b[1;32mif\u001b[0m \u001b[0mproj\u001b[0m \u001b[1;33m==\u001b[0m \u001b[1;32mNone\u001b[0m\u001b[1;33m:\u001b[0m\u001b[1;33m\u001b[0m\u001b[1;33m\u001b[0m\u001b[0m\n\u001b[0;32m      8\u001b[0m             \u001b[0mremaining_projects\u001b[0m\u001b[1;33m.\u001b[0m\u001b[0mappend\u001b[0m\u001b[1;33m(\u001b[0m\u001b[0mlist_projects\u001b[0m\u001b[1;33m[\u001b[0m\u001b[0mi\u001b[0m\u001b[1;33m]\u001b[0m\u001b[1;33m)\u001b[0m\u001b[1;33m\u001b[0m\u001b[1;33m\u001b[0m\u001b[0m\n",
      "\u001b[1;32m~\\my_projects\\hashcode\\mitjahorames\\input.py\u001b[0m in \u001b[0;36massign_contributors\u001b[1;34m(self, project)\u001b[0m\n\u001b[0;32m    153\u001b[0m             \u001b[0mcontributors\u001b[0m\u001b[1;33m[\u001b[0m\u001b[0mrole_skill\u001b[0m\u001b[1;33m]\u001b[0m \u001b[1;33m=\u001b[0m \u001b[0mcontribName\u001b[0m\u001b[1;33m\u001b[0m\u001b[1;33m\u001b[0m\u001b[0m\n\u001b[0;32m    154\u001b[0m \u001b[1;33m\u001b[0m\u001b[0m\n\u001b[1;32m--> 155\u001b[1;33m         \u001b[0mself\u001b[0m\u001b[1;33m.\u001b[0m\u001b[0madd_project\u001b[0m\u001b[1;33m(\u001b[0m\u001b[0mproject\u001b[0m\u001b[1;33m,\u001b[0m \u001b[0mcontributors\u001b[0m\u001b[1;33m)\u001b[0m\u001b[1;33m\u001b[0m\u001b[1;33m\u001b[0m\u001b[0m\n\u001b[0m\u001b[0;32m    156\u001b[0m \u001b[1;33m\u001b[0m\u001b[0m\n\u001b[0;32m    157\u001b[0m     \u001b[1;32mdef\u001b[0m \u001b[0mchoose_contrib\u001b[0m\u001b[1;33m(\u001b[0m\u001b[0mself\u001b[0m\u001b[1;33m,\u001b[0m \u001b[0mskill\u001b[0m\u001b[1;33m,\u001b[0m \u001b[0mlevel\u001b[0m\u001b[1;33m)\u001b[0m\u001b[1;33m:\u001b[0m\u001b[1;33m\u001b[0m\u001b[1;33m\u001b[0m\u001b[0m\n",
      "\u001b[1;32m~\\my_projects\\hashcode\\mitjahorames\\input.py\u001b[0m in \u001b[0;36madd_project\u001b[1;34m(self, project, skills_contributors)\u001b[0m\n\u001b[0;32m    120\u001b[0m         \u001b[1;32mfor\u001b[0m \u001b[0mskill\u001b[0m\u001b[1;33m,\u001b[0m \u001b[0mcontributor\u001b[0m \u001b[1;32min\u001b[0m \u001b[0mskills_contributors\u001b[0m\u001b[1;33m.\u001b[0m\u001b[0mitems\u001b[0m\u001b[1;33m(\u001b[0m\u001b[1;33m)\u001b[0m\u001b[1;33m:\u001b[0m\u001b[1;33m\u001b[0m\u001b[1;33m\u001b[0m\u001b[0m\n\u001b[0;32m    121\u001b[0m             \u001b[0mprojectObj\u001b[0m\u001b[1;33m.\u001b[0m\u001b[0madd_contributor\u001b[0m\u001b[1;33m(\u001b[0m\u001b[0mskill\u001b[0m\u001b[1;33m,\u001b[0m \u001b[0mcontributor\u001b[0m\u001b[1;33m)\u001b[0m\u001b[1;33m\u001b[0m\u001b[1;33m\u001b[0m\u001b[0m\n\u001b[1;32m--> 122\u001b[1;33m             \u001b[0mself\u001b[0m\u001b[1;33m.\u001b[0m\u001b[0mavailable_contributors\u001b[0m\u001b[1;33m.\u001b[0m\u001b[0mremove\u001b[0m\u001b[1;33m(\u001b[0m\u001b[0mcontributor\u001b[0m\u001b[1;33m)\u001b[0m\u001b[1;33m\u001b[0m\u001b[1;33m\u001b[0m\u001b[0m\n\u001b[0m\u001b[0;32m    123\u001b[0m \u001b[1;33m\u001b[0m\u001b[0m\n\u001b[0;32m    124\u001b[0m         \u001b[0mself\u001b[0m\u001b[1;33m.\u001b[0m\u001b[0mcurrent_projects\u001b[0m\u001b[1;33m[\u001b[0m\u001b[0mproject\u001b[0m\u001b[1;33m]\u001b[0m \u001b[1;33m=\u001b[0m \u001b[0mprojectObj\u001b[0m\u001b[1;33m\u001b[0m\u001b[1;33m\u001b[0m\u001b[0m\n",
      "\u001b[1;31mKeyError\u001b[0m: 'c1228'"
     ]
    }
   ],
   "source": [
    "\n",
    "list_busy = [] # list of busy contributors [name,time_available_again]\n",
    "list_projects = score_projects(inputData.projects,list(inputData.projects.keys()),inputData.time)\n",
    "while len(list_projects): \n",
    "    remaining_projects = []\n",
    "    for i in range(len(list_projects)):\n",
    "        proj = inputData.assign_contributors(list_projects[i])\n",
    "        if proj == None:\n",
    "            remaining_projects.append(list_projects[i])\n",
    "    inputData.advance_time\n",
    "    list_projects = score_project(inputData.projects,remaining_projects,time)\n",
    "    \n",
    "\n"
   ]
  },
  {
   "cell_type": "code",
   "execution_count": null,
   "id": "9bbb4277",
   "metadata": {},
   "outputs": [],
   "source": []
  },
  {
   "cell_type": "code",
   "execution_count": null,
   "id": "a191c568",
   "metadata": {},
   "outputs": [],
   "source": [
    "\n"
   ]
  },
  {
   "cell_type": "code",
   "execution_count": null,
   "id": "c721c981",
   "metadata": {},
   "outputs": [],
   "source": [
    "choose_contrib(inputData.contributors,'R-py',4)"
   ]
  },
  {
   "cell_type": "code",
   "execution_count": null,
   "id": "1b4297f5",
   "metadata": {},
   "outputs": [],
   "source": [
    "inputData.contributors['c121'].skills"
   ]
  },
  {
   "cell_type": "code",
   "execution_count": null,
   "id": "68330a1e",
   "metadata": {},
   "outputs": [],
   "source": []
  }
 ],
 "metadata": {
  "kernelspec": {
   "display_name": "Python 3 (ipykernel)",
   "language": "python",
   "name": "python3"
  },
  "language_info": {
   "codemirror_mode": {
    "name": "ipython",
    "version": 3
   },
   "file_extension": ".py",
   "mimetype": "text/x-python",
   "name": "python",
   "nbconvert_exporter": "python",
   "pygments_lexer": "ipython3",
   "version": "3.9.0"
  }
 },
 "nbformat": 4,
 "nbformat_minor": 5
}
