{
 "cells": [
  {
   "cell_type": "code",
   "execution_count": 1,
   "id": "5137e45a",
   "metadata": {},
   "outputs": [],
   "source": [
    "from input import ProblemInput\n",
    "import pandas as pd \n"
   ]
  },
  {
   "cell_type": "markdown",
   "id": "dbc32a7b",
   "metadata": {},
   "source": [
    "## First Algorithm"
   ]
  },
  {
   "cell_type": "code",
   "execution_count": 4,
   "id": "e79e6cc6",
   "metadata": {},
   "outputs": [],
   "source": [
    "\n",
    "# inputData = ProblemInput(\"input/a_an_example.in.txt\")\n",
    "# inputData = ProblemInput(\"input/b_basic.in.txt\")\n",
    "inputData = ProblemInput(\"input/c_collaboration.in.txt\")\n",
    "# inputData = ProblemInput(\"input/d_difficult.in.txt\")\n",
    "# inputData = ProblemInput(\"input/e_elaborate.in.txt\")"
   ]
  },
  {
   "cell_type": "markdown",
   "id": "202b32e7",
   "metadata": {},
   "source": [
    "- Order Projects by : best before (mes petit), points (mes alt) i duracio (mes petita)\n",
    "    - For project in "
   ]
  },
  {
   "cell_type": "code",
   "execution_count": null,
   "id": "b5449dff",
   "metadata": {},
   "outputs": [],
   "source": []
  },
  {
   "cell_type": "markdown",
   "id": "ddf942c8",
   "metadata": {},
   "source": [
    "- df de projectes:\n",
    " - variable temps"
   ]
  },
  {
   "cell_type": "code",
   "execution_count": null,
   "id": "7153ffd1",
   "metadata": {},
   "outputs": [],
   "source": [
    "def score_projects(df,time):\n",
    "#     df = df.sort_values(by=['best_before','points','duration'], ascending= [True,False,True])\n",
    "    df['score'] = df.apply(lambda row : row['scoring'] - (time-row['best_before']) if time>best_before, else scoring, aixs=1)\n",
    "    df = df.sort_values(by='score',ascending = False)\n",
    "    return df\n",
    "\n"
   ]
  },
  {
   "cell_type": "code",
   "execution_count": 27,
   "id": "786dc682",
   "metadata": {},
   "outputs": [],
   "source": [
    "def choose_contrib(contributors,skill,level):\n",
    "    #choose contributor with less skills and level that fulfills the job\n",
    "\n",
    "    contributor_dict  = {'name':[],'skill':[],'level':[],'total_skills':[]}\n",
    "    for contr in contributors.keys():\n",
    "        if skill in contributors[contr].skills.keys():\n",
    "            contributor_dict['name'].append(contributors[contr].name)\n",
    "            contributor_dict['level'].append(eval(contributors[contr].skills[skill]))\n",
    "            contributor_dict['skill'].append(skill)\n",
    "            contributor_dict['total_skills'].append(len(contributors[contr].skills.keys()))\n",
    "    df = pd.DataFrame(contributor_dict)\n",
    "    df = df[df['level']>=level]\n",
    "    df.sort_values(by= ['level','total_skills'],ascending=[True,True])\n",
    "    if df.shape[0]>0:\n",
    "        return df['name'].iloc[0]\n",
    "    return None\n"
   ]
  },
  {
   "cell_type": "code",
   "execution_count": 28,
   "id": "46d27493",
   "metadata": {},
   "outputs": [
    {
     "data": {
      "text/plain": [
       "{'R-py': '1', 'BusinessAnalysis-lib': '4', 'Dart-lib': '3'}"
      ]
     },
     "execution_count": 28,
     "metadata": {},
     "output_type": "execute_result"
    }
   ],
   "source": [
    "inputData.contributors['c121'].skills"
   ]
  },
  {
   "cell_type": "code",
   "execution_count": 32,
   "id": "f8ea5226",
   "metadata": {},
   "outputs": [
    {
     "data": {
      "text/plain": [
       "'c420'"
      ]
     },
     "execution_count": 32,
     "metadata": {},
     "output_type": "execute_result"
    }
   ],
   "source": [
    "choose_contrib(inputData.contributors,'R-py',4)"
   ]
  },
  {
   "cell_type": "code",
   "execution_count": null,
   "id": "a7fe9840",
   "metadata": {},
   "outputs": [],
   "source": [
    "time = 0\n",
    "list_busy = [] # list of busy contributors\n",
    "\n",
    "while  : \n",
    "    # assign projects\n",
    "    \n"
   ]
  }
 ],
 "metadata": {
  "kernelspec": {
   "display_name": "Python 3 (ipykernel)",
   "language": "python",
   "name": "python3"
  },
  "language_info": {
   "codemirror_mode": {
    "name": "ipython",
    "version": 3
   },
   "file_extension": ".py",
   "mimetype": "text/x-python",
   "name": "python",
   "nbconvert_exporter": "python",
   "pygments_lexer": "ipython3",
   "version": "3.9.0"
  }
 },
 "nbformat": 4,
 "nbformat_minor": 5
}
