{
 "cells": [
  {
   "cell_type": "code",
   "execution_count": 4,
   "id": "578b07ae-4b8a-4ec5-afcf-86d285761e87",
   "metadata": {},
   "outputs": [
    {
     "name": "stdout",
     "output_type": "stream",
     "text": [
      "<input.ProblemInput object at 0x7faae460f790>\n"
     ]
    }
   ],
   "source": [
    "# Read input\n",
    "\n",
    "from input import ProblemInput\n",
    "inputData = ProblemInput(\"input/a_an_example.in.txt\")\n"
   ]
  },
  {
   "cell_type": "markdown",
   "id": "d9a0ad8e",
   "metadata": {},
   "source": []
  }
 ],
 "metadata": {
  "kernelspec": {
   "display_name": "Python 3",
   "language": "python",
   "name": "python3"
  },
  "language_info": {
   "codemirror_mode": {
    "name": "ipython",
    "version": 3
   },
   "file_extension": ".py",
   "mimetype": "text/x-python",
   "name": "python",
   "nbconvert_exporter": "python",
   "pygments_lexer": "ipython3",
   "version": "3.8.0"
  }
 },
 "nbformat": 4,
 "nbformat_minor": 5
}
