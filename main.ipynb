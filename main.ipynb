{
 "cells": [
  {
   "cell_type": "code",
   "execution_count": 18,
   "id": "578b07ae-4b8a-4ec5-afcf-86d285761e87",
   "metadata": {},
   "outputs": [
    {
     "ename": "TypeError",
     "evalue": "reload() argument must be a module",
     "output_type": "error",
     "traceback": [
      "\u001b[0;31m---------------------------------------------------------------------------\u001b[0m",
      "\u001b[0;31mTypeError\u001b[0m                                 Traceback (most recent call last)",
      "\u001b[1;32m/home/omega/Projects/Agora/mitjahorames/main.ipynb Cell 1'\u001b[0m in \u001b[0;36m<module>\u001b[0;34m\u001b[0m\n\u001b[1;32m      <a href='vscode-notebook-cell:/home/omega/Projects/Agora/mitjahorames/main.ipynb#ch0000000?line=2'>3</a>\u001b[0m \u001b[39mfrom\u001b[39;00m \u001b[39minput\u001b[39;00m \u001b[39mimport\u001b[39;00m ProblemInput\n\u001b[1;32m      <a href='vscode-notebook-cell:/home/omega/Projects/Agora/mitjahorames/main.ipynb#ch0000000?line=3'>4</a>\u001b[0m \u001b[39mimport\u001b[39;00m \u001b[39mimportlib\u001b[39;00m\n\u001b[0;32m----> <a href='vscode-notebook-cell:/home/omega/Projects/Agora/mitjahorames/main.ipynb#ch0000000?line=4'>5</a>\u001b[0m importlib\u001b[39m.\u001b[39;49mreload(ProblemInput)\n\u001b[1;32m      <a href='vscode-notebook-cell:/home/omega/Projects/Agora/mitjahorames/main.ipynb#ch0000000?line=6'>7</a>\u001b[0m inputData \u001b[39m=\u001b[39m ProblemInput(\u001b[39m\"\u001b[39m\u001b[39minput/a_an_example.in.txt\u001b[39m\u001b[39m\"\u001b[39m)\n\u001b[1;32m      <a href='vscode-notebook-cell:/home/omega/Projects/Agora/mitjahorames/main.ipynb#ch0000000?line=8'>9</a>\u001b[0m \u001b[39mprint\u001b[39m(inputData\u001b[39m.\u001b[39mclients_to_like)\n",
      "File \u001b[0;32m/usr/lib/python3.8/importlib/__init__.py:140\u001b[0m, in \u001b[0;36mreload\u001b[0;34m(module)\u001b[0m\n\u001b[1;32m    <a href='file:///usr/lib/python3.8/importlib/__init__.py?line=133'>134</a>\u001b[0m \u001b[39m\"\"\"Reload the module and return it.\u001b[39;00m\n\u001b[1;32m    <a href='file:///usr/lib/python3.8/importlib/__init__.py?line=134'>135</a>\u001b[0m \n\u001b[1;32m    <a href='file:///usr/lib/python3.8/importlib/__init__.py?line=135'>136</a>\u001b[0m \u001b[39mThe module must have been successfully imported before.\u001b[39;00m\n\u001b[1;32m    <a href='file:///usr/lib/python3.8/importlib/__init__.py?line=136'>137</a>\u001b[0m \n\u001b[1;32m    <a href='file:///usr/lib/python3.8/importlib/__init__.py?line=137'>138</a>\u001b[0m \u001b[39m\"\"\"\u001b[39;00m\n\u001b[1;32m    <a href='file:///usr/lib/python3.8/importlib/__init__.py?line=138'>139</a>\u001b[0m \u001b[39mif\u001b[39;00m \u001b[39mnot\u001b[39;00m module \u001b[39mor\u001b[39;00m \u001b[39mnot\u001b[39;00m \u001b[39misinstance\u001b[39m(module, types\u001b[39m.\u001b[39mModuleType):\n\u001b[0;32m--> <a href='file:///usr/lib/python3.8/importlib/__init__.py?line=139'>140</a>\u001b[0m     \u001b[39mraise\u001b[39;00m \u001b[39mTypeError\u001b[39;00m(\u001b[39m\"\u001b[39m\u001b[39mreload() argument must be a module\u001b[39m\u001b[39m\"\u001b[39m)\n\u001b[1;32m    <a href='file:///usr/lib/python3.8/importlib/__init__.py?line=140'>141</a>\u001b[0m \u001b[39mtry\u001b[39;00m:\n\u001b[1;32m    <a href='file:///usr/lib/python3.8/importlib/__init__.py?line=141'>142</a>\u001b[0m     name \u001b[39m=\u001b[39m module\u001b[39m.\u001b[39m__spec__\u001b[39m.\u001b[39mname\n",
      "\u001b[0;31mTypeError\u001b[0m: reload() argument must be a module"
     ]
    }
   ],
   "source": [
    "# Read input\n",
    "\n",
    "from input import ProblemInput\n",
    "import importlib\n",
    "importlib.reload(input)\n",
    "\n",
    "inputData = ProblemInput(\"input/a_an_example.in.txt\")\n",
    "\n",
    "print(inputData.clients_to_like)\n"
   ]
  },
  {
   "cell_type": "markdown",
   "id": "d9a0ad8e",
   "metadata": {},
   "source": []
  }
 ],
 "metadata": {
  "kernelspec": {
   "display_name": "Python 3",
   "language": "python",
   "name": "python3"
  },
  "language_info": {
   "codemirror_mode": {
    "name": "ipython",
    "version": 3
   },
   "file_extension": ".py",
   "mimetype": "text/x-python",
   "name": "python",
   "nbconvert_exporter": "python",
   "pygments_lexer": "ipython3",
   "version": "3.8.0"
  }
 },
 "nbformat": 4,
 "nbformat_minor": 5
}
