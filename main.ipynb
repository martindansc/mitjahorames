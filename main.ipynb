{
 "cells": [
  {
   "cell_type": "code",
   "execution_count": 10,
   "id": "578b07ae-4b8a-4ec5-afcf-86d285761e87",
   "metadata": {},
   "outputs": [
    {
     "data": {
      "text/plain": [
       "1"
      ]
     },
     "execution_count": 10,
     "metadata": {},
     "output_type": "execute_result"
    }
   ],
   "source": [
    "# Read input\n",
    "\n",
    "from input import ProblemInput\n",
    "import networkx as nx\n",
    "inputData = ProblemInput(\"input/d_difficult.in.txt\")\n",
    "\n",
    "from graph import GraphIG, GraphPyVis, GraphNx\n",
    "\n",
    "graph3 = GraphNx()\n",
    "graph3.gDict(inputData.incompatible_clients)\n",
    "\n",
    "g = graph3.G\n",
    "\n",
    "len(list(nx.connected_components(g)))\n"
   ]
  },
  {
   "cell_type": "markdown",
   "id": "d9a0ad8e",
   "metadata": {},
   "source": []
  }
 ],
 "metadata": {
  "kernelspec": {
   "display_name": "Python 3",
   "language": "python",
   "name": "python3"
  },
  "language_info": {
   "codemirror_mode": {
    "name": "ipython",
    "version": 3
   },
   "file_extension": ".py",
   "mimetype": "text/x-python",
   "name": "python",
   "nbconvert_exporter": "python",
   "pygments_lexer": "ipython3",
   "version": "3.8.0"
  }
 },
 "nbformat": 4,
 "nbformat_minor": 5
}
