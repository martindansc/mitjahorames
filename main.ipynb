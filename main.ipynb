{
 "cells": [
  {
   "cell_type": "code",
   "execution_count": 3,
   "id": "9a66c60b",
   "metadata": {},
   "outputs": [],
   "source": [
    "from input import ProblemInput"
   ]
  },
  {
   "cell_type": "code",
   "execution_count": null,
   "id": "9e564f72-ac16-446b-9f03-51ed0d17943a",
   "metadata": {},
   "outputs": [],
   "source": [
    "filepath = 'input/a_an_example.in.txt'\n",
    "a = ProblemInput(filepath)"
   ]
  },
  {
   "cell_type": "code",
   "execution_count": null,
   "id": "7c210b02",
   "metadata": {},
   "outputs": [],
   "source": []
  },
  {
   "cell_type": "code",
   "execution_count": null,
   "id": "6f3ba4e0",
   "metadata": {},
   "outputs": [],
   "source": []
  },
  {
   "cell_type": "markdown",
   "id": "29962ad5",
   "metadata": {},
   "source": [
    "* self.like_to_clients = {}\n",
    "* self.clients_to_like = {}\n",
    "* self.dislike_to_clients = {}\n",
    "* self.clients_to_dislikes = {}"
   ]
  },
  {
   "cell_type": "code",
   "execution_count": null,
   "id": "f6095e1e",
   "metadata": {},
   "source": []
  }
 ],
 "metadata": {
  "kernelspec": {
   "display_name": "Python 3 (ipykernel)",
   "language": "python",
   "name": "python3"
  },
  "language_info": {
   "codemirror_mode": {
    "name": "ipython",
    "version": 3
   },
   "file_extension": ".py",
   "mimetype": "text/x-python",
   "name": "python",
   "nbconvert_exporter": "python",
   "pygments_lexer": "ipython3",
   "version": "3.9.0"
  }
 },
 "nbformat": 4,
 "nbformat_minor": 5
}
